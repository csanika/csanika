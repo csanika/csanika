{
 "cells": [
  {
   "cell_type": "code",
   "execution_count": 1,
   "metadata": {
    "collapsed": true
   },
   "outputs": [],
   "source": [
    "from IPython.display import Image\n",
    "from IPython.core.display import HTML"
   ]
  },
  {
   "cell_type": "markdown",
   "metadata": {},
   "source": [
    "## 1. A programozásról"
   ]
  },
  {
   "cell_type": "markdown",
   "metadata": {},
   "source": [
    "Egy számítógépes program __utasítások sorozata__.\n",
    "\n",
    "Ez egy teljesen hétköznapi fogalom. Nézzünk csak meg néhány példát utasítások sorozatára:"
   ]
  },
  {
   "cell_type": "code",
   "execution_count": 2,
   "metadata": {
    "collapsed": false
   },
   "outputs": [
    {
     "data": {
      "text/html": [
       "<img src=\"http://sandbox.hlt.bme.hu/~recski/media/telefon.jpg\"/>"
      ],
      "text/plain": [
       "<IPython.core.display.Image object>"
      ]
     },
     "execution_count": 2,
     "metadata": {},
     "output_type": "execute_result"
    }
   ],
   "source": [
    "Image(url=\"http://sandbox.hlt.bme.hu/~recski/media/telefon.jpg\")"
   ]
  },
  {
   "cell_type": "code",
   "execution_count": 3,
   "metadata": {
    "collapsed": false
   },
   "outputs": [
    {
     "data": {
      "text/html": [
       "<img src=\"http://sandbox.hlt.bme.hu/~recski/media/ikea.jpg\"/>"
      ],
      "text/plain": [
       "<IPython.core.display.Image object>"
      ]
     },
     "execution_count": 3,
     "metadata": {},
     "output_type": "execute_result"
    }
   ],
   "source": [
    "Image(url=\"http://sandbox.hlt.bme.hu/~recski/media/ikea.jpg\")"
   ]
  },
  {
   "cell_type": "code",
   "execution_count": 4,
   "metadata": {
    "collapsed": false
   },
   "outputs": [
    {
     "data": {
      "text/html": [
       "<img src=\"http://sandbox.hlt.bme.hu/~recski/media/zsele.jpg\"/>"
      ],
      "text/plain": [
       "<IPython.core.display.Image object>"
      ]
     },
     "execution_count": 4,
     "metadata": {},
     "output_type": "execute_result"
    }
   ],
   "source": [
    "Image(url=\"http://sandbox.hlt.bme.hu/~recski/media/zsele.jpg\")"
   ]
  },
  {
   "cell_type": "markdown",
   "metadata": {},
   "source": [
    "Ezeket hívhatnánk akár \"emberi programoknak\" is, amiket mi tudunk \"futtatni\".\n",
    "\n",
    "Ehhez persze nekünk szükségünk van pár dologra:\n",
    "- értenünk kell a nyelvet, amin a \"program\" íródott. Egy kínai használati utasítással a többségünk nincs kisegítve\n",
    "- ismernünk kell a fogalmakat, amiket a \"program\" használ. Ha az IKEA katalógusban rajzok helyett olyan kifejezéseket hsználnának, mint \"négyes kulcs\" vagy \"tipli\", sokan elvesznénk. Ugyanígy nem sokat ér egy kezdő egy recepttel, amiben egyszer csak csinálni kell egy _habarást_\n",
    "- értenünk kell olyan logikai műveleteket, mint pl. \"ha... akkor\"\n",
    "- és persze rendelkeznünk kell bizonyos _erőforrásokkal_ - ha nincs egyforintosom, nem tudok telefonálni"
   ]
  },
  {
   "cell_type": "markdown",
   "metadata": {},
   "source": [
    "Nézzünk még egy példát \"emberi programra\":"
   ]
  },
  {
   "cell_type": "markdown",
   "metadata": {},
   "source": [
    "#### Nutellás brownie\n",
    "\n",
    "Hozzávalók:\n",
    "\n",
    "    - 40 dkg nutella\n",
    "    - 4 db tojás\n",
    "\n",
    "Elkészítés:\n",
    "\n",
    "    1. A sütőt előmelegítjük.\n",
    "    2. A tojásokat habosra keverjük robotgéppel. Akkor jó, ha már egész világos színű, és nagyon krémes.\n",
    "    3. Közben megmelegítjük a nutellát, hogy folyós legyen, de ne forró!\n",
    "    4. Óvatosan belekeverjük, forgatjuk a nutellát a tojáskrémbe, majd az egészet sütőpapírral bélelt formába öntjük.\n",
    "    5. 25-30 perc alatt készre sütjük, tűpróbával ellenőrizzük. A formában hagyjuk teljesen kihűlni, majd szeleteljük."
   ]
  },
  {
   "cell_type": "markdown",
   "metadata": {},
   "source": [
    "Ez a recept __pontosan ugyanolyan elemekből épül fel, mint egy számítógépes program__. Nézzük meg, mik ezek az elemek!\n",
    "\n",
    "A legtöbb kifejezés __dolgokra__, __objektumokra__ hivatkozik:\n",
    "- A __tojásokat__ habosra keverjük __robotgéppel__\n",
    "- Közben megmelegítjük a __nutellát__\n",
    "  \n",
    "\n",
    "Szerepelnek a receptben __folyamatok__ pl:\n",
    "\n",
    "- A tojásokat habosra __keverjük__\n",
    "- Közben __megmelegítjük__ a nutellát\n",
    "\n",
    "Ezekhez a folyamatokhoz tartoznak plusz részletek, ún. __paraméterek__:\n",
    "\n",
    "- __Óvatosan__ belekeverjük...\n",
    "- __25-30 perc alatt__ készre sütjük"
   ]
  },
  {
   "cell_type": "markdown",
   "metadata": {},
   "source": [
    "A \"program\" elején azt is megmondjuk, milyen __erőforrásokra__ van szükségünk:\n",
    "- 40 dkg __nutella__\n",
    "- 4 db __tojás__\n",
    "\n",
    "(a sütő, a robotgép, a tepsi ezekszerint beépített erőforrás...)"
   ]
  },
  {
   "cell_type": "markdown",
   "metadata": {},
   "source": [
    "Az alábbi utasítások valami bonyolultabb dolgot is tartalmaznak:\n",
    "- A tojásokat habosra keverjük (...) Akkor jó, ha már egész világos színű, és nagyon krémes.\n",
    "- megmelegítjük a nutellát, hogy folyós legyen, de ne forró\n",
    "- hagyjuk teljesen kihűlni"
   ]
  },
  {
   "cell_type": "markdown",
   "metadata": {},
   "source": [
    "Ezek az utasítások nem egyetlen műveletre hivatkoznak, hanem egy-egy összetett folyamatra. Ezeket egy számítógépes program esetében ki kell fejteni! Pl:\n",
    "- A tojásokat habosra keverjük (...) Akkor jó, ha már egész világos színű, és nagyon krémes.\n",
    "\n",
    "_Keverd a tojásokat valamennyit. Nézd meg, hogy habos-e, világos-e, nagyon krémes-e. Ha nem, keverd megint valameddig. Aztán megint nézd meg. És így tovább. Ha egyszercsak már habos, világos és nagyon krémes, akkor hagyd abba._\n",
    "\n",
    "Ezt le is rajzolhatnánk:"
   ]
  },
  {
   "cell_type": "code",
   "execution_count": 5,
   "metadata": {
    "collapsed": false
   },
   "outputs": [
    {
     "data": {
      "text/html": [
       "<img src=\"http://sandbox.hlt.bme.hu/~recski/media/habos.jpg\"/>"
      ],
      "text/plain": [
       "<IPython.core.display.Image object>"
      ]
     },
     "execution_count": 5,
     "metadata": {},
     "output_type": "execute_result"
    }
   ],
   "source": [
    "Image(url=\"http://sandbox.hlt.bme.hu/~recski/media/habos.jpg\")"
   ]
  },
  {
   "cell_type": "markdown",
   "metadata": {},
   "source": [
    " - megmelegítjük a nutellát, hogy folyós legyen, de ne forró\n",
    "\n",
    "_Melegítsd a nutellát egy darabig. Folyós? Ha nem, melegítsd tovább! Mindjárt forró lesz? Akkor hagyd abba!_\n"
   ]
  },
  {
   "cell_type": "code",
   "execution_count": 6,
   "metadata": {
    "collapsed": false
   },
   "outputs": [
    {
     "data": {
      "text/html": [
       "<img src=\"http://sandbox.hlt.bme.hu/~recski/media/folyos.jpg\"/>"
      ],
      "text/plain": [
       "<IPython.core.display.Image object>"
      ]
     },
     "execution_count": 6,
     "metadata": {},
     "output_type": "execute_result"
    }
   ],
   "source": [
    "Image(url=\"http://sandbox.hlt.bme.hu/~recski/media/folyos.jpg\")"
   ]
  },
  {
   "cell_type": "markdown",
   "metadata": {},
   "source": [
    "__Egy számítógépnek így kell elmagyarázni ezeket, de ezt hamar meg lehet szokni!__\n",
    "\n",
    "__1.1 FELADAT__: Rajzolj ilyen ábrát az alábbiakhoz is:"
   ]
  },
  {
   "cell_type": "markdown",
   "metadata": {},
   "source": [
    "__(a)__ _hagyjuk teljesen kihűlni_"
   ]
  },
  {
   "cell_type": "raw",
   "metadata": {},
   "source": [
    "\n",
    "\n",
    "\n",
    "\n",
    "\n",
    "\n",
    "\n",
    "\n",
    "\n",
    "\n"
   ]
  },
  {
   "cell_type": "markdown",
   "metadata": {},
   "source": [
    "__(b)__ _készre sütjük_"
   ]
  },
  {
   "cell_type": "raw",
   "metadata": {},
   "source": [
    "\n",
    "\n",
    "\n",
    "\n",
    "\n",
    "\n",
    "\n",
    "\n",
    "\n",
    "\n"
   ]
  },
  {
   "cell_type": "markdown",
   "metadata": {},
   "source": [
    "__(c)__ _25-30 perc alatt készre sütjük_\n",
    "\n",
    "(itt több megoldás is létezik attól függően, hogy ki hogyan értelmezi ezt az instrukciót... rajzolhatsz többfélét!)"
   ]
  },
  {
   "cell_type": "raw",
   "metadata": {},
   "source": [
    "\n",
    "\n",
    "\n",
    "\n",
    "\n",
    "\n",
    "\n",
    "\n",
    "\n",
    "\n"
   ]
  },
  {
   "cell_type": "markdown",
   "metadata": {},
   "source": [
    "Azt még vegyük észre a recepten, hogy mennyi mindent nem mond el, mert úgyis tudjuk. Például a tojást fel kell törni, egy tálba kell tenni, a sütőpapírt méretre kell vágni, a sütőt egy adott hőfokra kell előmelegíteni, stb. Úgy is mondhatnánk, hogy a recept (vagy \"program\") adottnak veszi, hogy ismerjük a tojás-felverés meg a tepsi-kibélelés \"programját\". Számítógépes programot is úgy írunk, hogy lehetőség szerint csak azt csináljuk magunk, amit más még előttünk nem csinált meg."
   ]
  },
  {
   "cell_type": "markdown",
   "metadata": {},
   "source": [
    "A számítógépes programok azért tűnnek bonyolultnak, mert __a számítógépes (programozási) nyelvek sajnos sokkal unalmasabbak, mint az emberi nyelv__:\n",
    "  - __tömörebbek__: mert emberek tervezték egy konkrét célra (az emberi nyelv spontán alakult ki, és sok más funkciót is ellát, mint a puszta információközlést), és\n",
    "  - __egyértelműbbek__: gépi nyelven egy \"mondatot\" csak egyféleképpen lehet érteni (a hétköznapi nyelvre ez szinte soha nem igaz, mert mi rengeteg részletet ki tudunk találni, sok lehetséges értelmezést ki tudunk zárni, stb.)"
   ]
  },
  {
   "cell_type": "markdown",
   "metadata": {
    "collapsed": true
   },
   "source": [
    "Python nyelven pl. kb így nézne ki a fenti recept... __ebből most még egy sort sem kell érteni, de szabad!__"
   ]
  },
  {
   "cell_type": "code",
   "execution_count": null,
   "metadata": {
    "collapsed": false
   },
   "outputs": [],
   "source": [
    "from kozert import Nutella, Tojas\n",
    "\n",
    "nutella = Nutella(suly=400)\n",
    "tojas = Tojas(darab=4)\n",
    "\n",
    "\n",
    "while not tojas.habos and tojas.szin == 'vilagos' and tojas.kremesseg >= 8:\n",
    "    kever(tojas)\n",
    "\n",
    "while not nutella.allag == folyos and nutella.homerseklet < 70:\n",
    "    melegit(nutella)\n",
    "\n",
    "teszta = belekever(nutella, tojas, mod='ovatos')\n",
    "\n",
    "suto = Suto()\n",
    "tepsi = Tepsi()\n",
    "sutopapir = Sutopapir(meret=tepsi.meret)\n",
    "\n",
    "belel(tepsi, sutopapir)\n",
    "\n",
    "beleont(teszta, tepsi)\n",
    "\n",
    "while not tuproba(teszta):\n",
    "    sut(tepsi)"
   ]
  },
  {
   "cell_type": "markdown",
   "metadata": {},
   "source": [
    "__1.2 FELADAT__\n",
    "\n",
    "Nézegesd a fentieket és a receptet. Vannak sorok, amiket még biztosan nem értesz, ha nem tanultál sose programozni, de más részeket nagyjából követhetsz. Próbálj meg válaszolni az alábbi kérdésekre:"
   ]
  },
  {
   "cell_type": "markdown",
   "metadata": {},
   "source": [
    "  __(a)__ mit változtatnál, hogy 350g legyen a nutella mennyisége?"
   ]
  },
  {
   "cell_type": "raw",
   "metadata": {},
   "source": []
  },
  {
   "cell_type": "markdown",
   "metadata": {},
   "source": [
    "__(b)__ hogy módosítanád a programot, ha a tojásnak nem kell krémesnek lennie, csak sárgának?"
   ]
  },
  {
   "cell_type": "raw",
   "metadata": {},
   "source": []
  },
  {
   "cell_type": "markdown",
   "metadata": {},
   "source": [
    "__(c)__ melyik sorokat törölhetjük ki, ha mégsem kell sütőpapír?"
   ]
  },
  {
   "cell_type": "raw",
   "metadata": {},
   "source": []
  },
  {
   "cell_type": "markdown",
   "metadata": {},
   "source": [
    "__(d)__ hogy mondanád ugyanezen a nyelven azt, hogy a nutellát addig melegítjük, amíg habos nem lesz?"
   ]
  },
  {
   "cell_type": "raw",
   "metadata": {},
   "source": [
    "\n"
   ]
  }
 ],
 "metadata": {
  "kernelspec": {
   "display_name": "Python 3",
   "language": "python",
   "name": "python3"
  },
  "language_info": {
   "codemirror_mode": {
    "name": "ipython",
    "version": 3
   },
   "file_extension": ".py",
   "mimetype": "text/x-python",
   "name": "python",
   "nbconvert_exporter": "python",
   "pygments_lexer": "ipython3",
   "version": "3.5.2"
  }
 },
 "nbformat": 4,
 "nbformat_minor": 1
}
