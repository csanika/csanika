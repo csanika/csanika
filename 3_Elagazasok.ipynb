{
 "cells": [
  {
   "cell_type": "markdown",
   "metadata": {},
   "source": [
    "### 3. Elágazások"
   ]
  },
  {
   "cell_type": "markdown",
   "metadata": {},
   "source": [
    "Szinte minden program, ami valami hasznosat csinál, tartalmaz __elágazásokat__. Azaz nem csak egyféleképp tud futni. Ha belépsz valahová a neten névvel és jelszóval, akkor a beléptetést végző programban egy elágazás, hogy jó jelszót adtál-e meg, mert ezen múlik, hogy mi a következő lépés. Ha egy diagnosztikai szoftver megkérdezi a beteget, hogy volt-e láza, a választól függhet a következő kérdés, stb.\n",
    "\n",
    "Az alábbi program például megnézi, hogy egy szó megvan-e legalább 8 betű, jó-e wifi jelszónak:"
   ]
  },
  {
   "cell_type": "code",
   "execution_count": 6,
   "metadata": {
    "collapsed": false
   },
   "outputs": [],
   "source": [
    "def hosszu_e(jelszo):\n",
    "    if len(jelszo) >= 8:\n",
    "        print(\"Ez elég hosszú\")\n",
    "    else:\n",
    "        print(\"Ez nem elég hosszú\")"
   ]
  },
  {
   "cell_type": "code",
   "execution_count": 7,
   "metadata": {
    "collapsed": false
   },
   "outputs": [
    {
     "name": "stdout",
     "output_type": "stream",
     "text": [
      "Ez nem elég hosszú\n"
     ]
    }
   ],
   "source": [
    "hosszu_e(\"pingvin\")"
   ]
  },
  {
   "cell_type": "code",
   "execution_count": 8,
   "metadata": {
    "collapsed": false
   },
   "outputs": [
    {
     "name": "stdout",
     "output_type": "stream",
     "text": [
      "Ez elég hosszú\n"
     ]
    }
   ],
   "source": [
    "hosszu_e(\"jegesmedve\")"
   ]
  },
  {
   "cell_type": "markdown",
   "metadata": {},
   "source": [
    "Az _if_ után közvetlenül a __feltétel__ szerepel, ennek egy __állításnak__ kell lennie, tehát valaminek, ami vagy igaz, vagy nem. Ha a feltétel igaz, akkor az __if__ után következő utasítás fut le, ha nem, akkor az __else__ utáni."
   ]
  },
  {
   "cell_type": "markdown",
   "metadata": {},
   "source": [
    "Egy python programban nagyon fontos, hogy melyik sornak hol a bal széle, ez az __indentáció__. Ez jelzi, hogy melyik sorok tartoznak egy kifejezés hatáskörébe: az __if__ utáni rész addig tart, amíg véget nem ér az indentáció.\n",
    "Amit a program végére indentáció nélkül írunk, mindenképpen lefut, próbáljuk ki!"
   ]
  },
  {
   "cell_type": "markdown",
   "metadata": {},
   "source": [
    "Ha kettőnél több esetet szeretnénk kezelni, erre több módszer is van. \n",
    "\n",
    "Az _elif_ szóval bevezethető akárhány plusz elágazás az első és az utolsó közé:"
   ]
  },
  {
   "cell_type": "code",
   "execution_count": 12,
   "metadata": {
    "collapsed": false
   },
   "outputs": [],
   "source": [
    "def milyen_hosszu(jelszo):\n",
    "    if len(jelszo) > 10:\n",
    "        print(\"nagyon hosszú\")\n",
    "    elif len(jelszo) > 7:\n",
    "        print(\"hosszú\")\n",
    "    elif len(jelszo) > 3:\n",
    "        print(\"rövid\")\n",
    "    else:\n",
    "        print(\"nagyon rövid\")"
   ]
  },
  {
   "cell_type": "code",
   "execution_count": 13,
   "metadata": {
    "collapsed": false
   },
   "outputs": [
    {
     "name": "stdout",
     "output_type": "stream",
     "text": [
      "rövid\n"
     ]
    }
   ],
   "source": [
    "milyen_hosszu('pingvin')"
   ]
  },
  {
   "cell_type": "code",
   "execution_count": 14,
   "metadata": {
    "collapsed": false
   },
   "outputs": [
    {
     "name": "stdout",
     "output_type": "stream",
     "text": [
      "hosszú\n"
     ]
    }
   ],
   "source": [
    "milyen_hosszu('jegesmedve')"
   ]
  },
  {
   "cell_type": "code",
   "execution_count": 16,
   "metadata": {
    "collapsed": false
   },
   "outputs": [
    {
     "name": "stdout",
     "output_type": "stream",
     "text": [
      "nagyon rövid\n"
     ]
    }
   ],
   "source": [
    "milyen_hosszu('emu')"
   ]
  },
  {
   "cell_type": "code",
   "execution_count": 17,
   "metadata": {
    "collapsed": false
   },
   "outputs": [
    {
     "name": "stdout",
     "output_type": "stream",
     "text": [
      "nagyon hosszú\n"
     ]
    }
   ],
   "source": [
    "milyen_hosszu('barázdabillegető')"
   ]
  },
  {
   "cell_type": "markdown",
   "metadata": {},
   "source": [
    "Ugyanezt máshogy is írhattuk volna: az _if-else_ blokkokat egymásba is ágyazhatjuk:"
   ]
  },
  {
   "cell_type": "code",
   "execution_count": null,
   "metadata": {
    "collapsed": false
   },
   "outputs": [],
   "source": [
    "def milyen_hosszu(szo):\n",
    "    if len(szo) > 10:\n",
    "        print(\"nagyon hosszú\")\n",
    "    else:\n",
    "        if len(szo) > 7:\n",
    "            print(\"hosszú\")\n",
    "        else:\n",
    "            if len(szo) > 3:\n",
    "                print(\"rövid\")\n",
    "            else:\n",
    "                print(\"nagyon rövid\")"
   ]
  },
  {
   "cell_type": "markdown",
   "metadata": {},
   "source": [
    "Az _if_-ek és _elif_-ek után álló __feltételek__-nek állításoknak kell lenniük, tehát olyan kifejezéseknek, amik vagy igazak, vagy hamisak. Itt van néhány példa állításokra:"
   ]
  },
  {
   "cell_type": "code",
   "execution_count": 18,
   "metadata": {
    "collapsed": false
   },
   "outputs": [
    {
     "data": {
      "text/plain": [
       "True"
      ]
     },
     "execution_count": 18,
     "metadata": {},
     "output_type": "execute_result"
    }
   ],
   "source": [
    "2 + 2 == 4  # dupla egyenlőségjel!"
   ]
  },
  {
   "cell_type": "code",
   "execution_count": 19,
   "metadata": {
    "collapsed": false
   },
   "outputs": [
    {
     "data": {
      "text/plain": [
       "False"
      ]
     },
     "execution_count": 19,
     "metadata": {},
     "output_type": "execute_result"
    }
   ],
   "source": [
    "2 + 2 == 5"
   ]
  },
  {
   "cell_type": "code",
   "execution_count": null,
   "metadata": {
    "collapsed": false
   },
   "outputs": [],
   "source": [
    "2 + 2 != 5"
   ]
  },
  {
   "cell_type": "code",
   "execution_count": null,
   "metadata": {
    "collapsed": false
   },
   "outputs": [],
   "source": [
    "2 + 2 < 5"
   ]
  },
  {
   "cell_type": "code",
   "execution_count": null,
   "metadata": {
    "collapsed": false
   },
   "outputs": [],
   "source": [
    "2 + 2 < 4"
   ]
  },
  {
   "cell_type": "code",
   "execution_count": null,
   "metadata": {
    "collapsed": false
   },
   "outputs": [],
   "source": [
    "2 + 2 <= 4"
   ]
  },
  {
   "cell_type": "code",
   "execution_count": null,
   "metadata": {
    "collapsed": false
   },
   "outputs": [],
   "source": [
    "\"pingvin\" == \"pingvin\""
   ]
  },
  {
   "cell_type": "code",
   "execution_count": null,
   "metadata": {
    "collapsed": false
   },
   "outputs": [],
   "source": [
    "\"pingvin\" == \"fóka\""
   ]
  },
  {
   "cell_type": "markdown",
   "metadata": {},
   "source": [
    "Itt egy nagyon egyszerű program, ami elágazást használ:"
   ]
  },
  {
   "cell_type": "code",
   "execution_count": 35,
   "metadata": {
    "collapsed": false
   },
   "outputs": [],
   "source": [
    "def kedvenc():\n",
    "    print(\"Mi a kedvenc állatom?\")\n",
    "    valasz = input()\n",
    "    if valasz == \"pingvin\":\n",
    "        print(\"Helyes, tényleg a pingvin!\")\n",
    "    else:\n",
    "        print(\"Nem, mert a pingvin.\")"
   ]
  },
  {
   "cell_type": "code",
   "execution_count": 28,
   "metadata": {
    "collapsed": false
   },
   "outputs": [
    {
     "name": "stdout",
     "output_type": "stream",
     "text": [
      "Mi a kedvenc állatom?\n",
      "pingvin\n",
      "Helyes, tényleg a pingvin!\n"
     ]
    }
   ],
   "source": [
    "kedvenc()"
   ]
  },
  {
   "cell_type": "markdown",
   "metadata": {},
   "source": [
    "Az állítások tartalmazhatnak olyan logikai műveleteket is, mint az __és__, a __vagy__, a __nem__ (tagadás), stb. Pl:"
   ]
  },
  {
   "cell_type": "code",
   "execution_count": 38,
   "metadata": {
    "collapsed": true
   },
   "outputs": [],
   "source": [
    "def kedvenc2():\n",
    "    print(\"Mi a kedvenc állatom?\")\n",
    "    valasz = input()\n",
    "    if not valasz == \"pingvin\":\n",
    "        print(\"Nem, mert a pingvin.\")\n",
    "    else:\n",
    "        print(\"És tényleg.\")"
   ]
  },
  {
   "cell_type": "code",
   "execution_count": 39,
   "metadata": {
    "collapsed": false
   },
   "outputs": [
    {
     "name": "stdout",
     "output_type": "stream",
     "text": [
      "Mi a kedvenc állatom?\n",
      "zsiráf\n",
      "Nem, mert a pingvin.\n"
     ]
    }
   ],
   "source": [
    "kedvenc2()"
   ]
  },
  {
   "cell_type": "code",
   "execution_count": 36,
   "metadata": {
    "collapsed": false
   },
   "outputs": [],
   "source": [
    "def kedvenc3():\n",
    "    print(\"Mi a kedvenc állatom?\")\n",
    "    valasz = input()\n",
    "    if valasz == \"pingvin\" or valasz == \"zsiráf\":\n",
    "        print(\"Helyes, tényleg a\", valasz)\n",
    "    else:\n",
    "        print(\"Nem, mert a pingvin meg a zsiráf.\")"
   ]
  },
  {
   "cell_type": "code",
   "execution_count": 37,
   "metadata": {
    "collapsed": false
   },
   "outputs": [
    {
     "name": "stdout",
     "output_type": "stream",
     "text": [
      "Mi a kedvenc állatom?\n",
      "fóka\n",
      "Nem, mert a pingvin meg a zsiráf.\n"
     ]
    }
   ],
   "source": [
    "kedvenc3()"
   ]
  },
  {
   "cell_type": "markdown",
   "metadata": {},
   "source": [
    "Ahol _if_-et írunk, nem muszáj _else_-t is írni. Nézzük, mit csinál az alábbi program:"
   ]
  },
  {
   "cell_type": "code",
   "execution_count": 57,
   "metadata": {
    "collapsed": true
   },
   "outputs": [],
   "source": [
    "def kedvenc4():\n",
    "    print(\"Mi a kedvenc állatod?\")\n",
    "    valasz = input()\n",
    "    if valasz == \"pingvin\" or valasz == \"zsiráf\":\n",
    "        print(\"De jó!\")"
   ]
  },
  {
   "cell_type": "code",
   "execution_count": 58,
   "metadata": {
    "collapsed": false
   },
   "outputs": [
    {
     "name": "stdout",
     "output_type": "stream",
     "text": [
      "Mi a kedvenc állatod?\n",
      "pingvin\n",
      "De jó!\n"
     ]
    }
   ],
   "source": [
    "kedvenc4()"
   ]
  },
  {
   "cell_type": "markdown",
   "metadata": {},
   "source": [
    "__3.1. FELADAT__: Írjunk egy programot, ami beolvas egy számot, és kiírja, hogy pozitív, negatív, vagy nulla-e! Több megoldás is lehet, írjunk legalább kétfélét!"
   ]
  },
  {
   "cell_type": "code",
   "execution_count": 40,
   "metadata": {
    "collapsed": false
   },
   "outputs": [],
   "source": [
    "def milyen_szam():\n",
    "    szam = float(input())  # amit beolvasunk, sztring lesz, át kell alakítanunk számmá\n",
    "    # ..."
   ]
  },
  {
   "cell_type": "code",
   "execution_count": 41,
   "metadata": {
    "collapsed": false
   },
   "outputs": [
    {
     "name": "stdout",
     "output_type": "stream",
     "text": [
      "5\n"
     ]
    }
   ],
   "source": [
    "milyen_szam()"
   ]
  },
  {
   "cell_type": "markdown",
   "metadata": {},
   "source": [
    "__3.2. FELADAT__: Írj olyan programot, ami megkérdezi, hogy hányas csoportba jár programozás laborra, és kiírja, hogy melyik nap van az a labor (1-es csoport kedd, 2-es csoport péntek, 3-as csoport szerda)"
   ]
  },
  {
   "cell_type": "code",
   "execution_count": 45,
   "metadata": {
    "collapsed": true
   },
   "outputs": [],
   "source": [
    "def labor():\n",
    "    print (\"Hányas csoportba jársz?\")\n",
    "    szam = int(input())\n",
    "    # ..."
   ]
  },
  {
   "cell_type": "code",
   "execution_count": 46,
   "metadata": {
    "collapsed": false
   },
   "outputs": [
    {
     "name": "stdout",
     "output_type": "stream",
     "text": [
      "Hányas csoportba jársz?\n",
      "3\n"
     ]
    }
   ],
   "source": [
    "labor()"
   ]
  },
  {
   "cell_type": "markdown",
   "metadata": {},
   "source": [
    "__3.3. FELADAT__: Mi történik, ha a fenti programnak más számot adunk meg, mint az 1, 2 vagy 3? Írd át úgy, hogy ilyenkor írja ki, hogy nincs olyan csoport!"
   ]
  },
  {
   "cell_type": "code",
   "execution_count": null,
   "metadata": {
    "collapsed": true
   },
   "outputs": [],
   "source": [
    "def labor():\n",
    "    print (\"Hányas csoportba jársz?\")\n",
    "    szam = int(input())\n",
    "    # ..."
   ]
  },
  {
   "cell_type": "code",
   "execution_count": 47,
   "metadata": {
    "collapsed": false
   },
   "outputs": [
    {
     "name": "stdout",
     "output_type": "stream",
     "text": [
      "Hányas csoportba jársz?\n",
      "3\n"
     ]
    }
   ],
   "source": [
    "labor()"
   ]
  },
  {
   "cell_type": "markdown",
   "metadata": {},
   "source": [
    "__3.4. FELADAT__: Írd át a fenti programot úgy, hogy ha nem jó számot kapott, akkor induljon újra!"
   ]
  },
  {
   "cell_type": "code",
   "execution_count": 48,
   "metadata": {
    "collapsed": true
   },
   "outputs": [],
   "source": [
    "def labor():\n",
    "    print (\"Hányas csoportba jársz?\")\n",
    "    szam = int(input())\n",
    "    # ..."
   ]
  },
  {
   "cell_type": "code",
   "execution_count": 49,
   "metadata": {
    "collapsed": false
   },
   "outputs": [
    {
     "name": "stdout",
     "output_type": "stream",
     "text": [
      "Hányas csoportba jársz?\n",
      "3\n"
     ]
    }
   ],
   "source": [
    "labor()"
   ]
  },
  {
   "cell_type": "markdown",
   "metadata": {},
   "source": [
    "__3.5. FELADAT__ Írjunk egy programot, ami beolvas egy szót, és kiírja, hogy csupa nagybetűből áll-e!"
   ]
  },
  {
   "cell_type": "code",
   "execution_count": 42,
   "metadata": {
    "collapsed": true
   },
   "outputs": [],
   "source": [
    "def nagybetus_e():\n",
    "    szo = input()\n",
    "    # ..."
   ]
  },
  {
   "cell_type": "markdown",
   "metadata": {},
   "source": [
    "__3.6. FELADAT__ Az előző notebook-ban definiáltuk a _csillag_ függvényt:"
   ]
  },
  {
   "cell_type": "code",
   "execution_count": 2,
   "metadata": {
    "collapsed": false
   },
   "outputs": [
    {
     "name": "stdout",
     "output_type": "stream",
     "text": [
      "Hosszú*Katinka\n"
     ]
    }
   ],
   "source": [
    "def csillag(egyik_szo, masik_szo):\n",
    "    print(egyik_szo, masik_szo, sep='*')\n",
    "\n",
    "csillag(\"Hosszú\", \"Katinka\")"
   ]
  },
  {
   "cell_type": "markdown",
   "metadata": {},
   "source": [
    "Írj olyan programot, ami beolvassa valakinek a vezetéknevét és keresztnevét, majd köszön neki, de csillagot csak akkor használ, ha ugyanaz a keresztnevetek! "
   ]
  },
  {
   "cell_type": "code",
   "execution_count": 59,
   "metadata": {
    "collapsed": false
   },
   "outputs": [],
   "source": [
    "def koszones():\n",
    "    print (\"Vezetéknév?\")\n",
    "    vezeteknev = input()\n",
    "    print (\"Keresztnév?\")\n",
    "    keresztnev = input()\n",
    "    # ..."
   ]
  },
  {
   "cell_type": "code",
   "execution_count": null,
   "metadata": {
    "collapsed": false
   },
   "outputs": [],
   "source": [
    "koszones()"
   ]
  },
  {
   "cell_type": "markdown",
   "metadata": {},
   "source": [
    "__3.7 FELADAT - Pluszpontért beadható!__ Írj olyan programot, aminek megadunk egy számot, és a felhasználónak tippelnie kell, hogy melyik számra \"gondolt\" a program. Minden tipp után írja ki a program, hogy a gondolt szám a tippnél nagyobb-e vagy kisebb, ha pedig jó a tipp, akkor írja ki, hogy hányadikra sikerült! Ha a felhasználó nem egész számot (int) adott meg, kapjon figyelmeztetést, és ez ne számítson bele a próbálkozások számába.\n",
    "Segítség: egy függvény önmagát fogja hívni, mint a __3.4__ megoldásában.\n",
    "\n",
    "__Beküldési határidő: 2016.10.05 (szerda) 08:00__"
   ]
  },
  {
   "cell_type": "code",
   "execution_count": null,
   "metadata": {
    "collapsed": true
   },
   "outputs": [],
   "source": []
  }
 ],
 "metadata": {
  "kernelspec": {
   "display_name": "Python 3",
   "language": "python",
   "name": "python3"
  },
  "language_info": {
   "codemirror_mode": {
    "name": "ipython",
    "version": 3
   },
   "file_extension": ".py",
   "mimetype": "text/x-python",
   "name": "python",
   "nbconvert_exporter": "python",
   "pygments_lexer": "ipython3",
   "version": "3.5.2"
  }
 },
 "nbformat": 4,
 "nbformat_minor": 1
}
