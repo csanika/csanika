{
 "cells": [
  {
   "cell_type": "markdown",
   "metadata": {},
   "source": [
    "### 2. Python alapok"
   ]
  },
  {
   "cell_type": "markdown",
   "metadata": {},
   "source": [
    "Korábban már láttunk egy nagyon egyszerű, de működő programot:"
   ]
  },
  {
   "cell_type": "code",
   "execution_count": 1,
   "metadata": {
    "collapsed": false
   },
   "outputs": [
    {
     "name": "stdout",
     "output_type": "stream",
     "text": [
      "6\n"
     ]
    }
   ],
   "source": [
    "print(3+3)"
   ]
  },
  {
   "cell_type": "markdown",
   "metadata": {},
   "source": [
    "Szedjük szét darabraira ezt a nem túl izgalmas programot. Ez a sor rögtön két dolgot csinál: __összead__ két __szám__ot és __kiírja__ az eredményt. Az összeadás és kiírás műveletek, vagy más néven __függvények__ (Most még nem kell érteni, hogy mi köze ennek az iskolai matekórán tanult függvényhez).\n",
    "\n",
    "Írhatnánk két sorba is, ekkor meg kell mondani, hogy milyen néven tárolja el a program az első művelet eredményét, és ezt a nevet kell használnunk a második sorban:"
   ]
  },
  {
   "cell_type": "code",
   "execution_count": 2,
   "metadata": {
    "collapsed": false
   },
   "outputs": [
    {
     "name": "stdout",
     "output_type": "stream",
     "text": [
      "6\n"
     ]
    }
   ],
   "source": [
    "osszeg = 3 + 3\n",
    "print(osszeg)"
   ]
  },
  {
   "cell_type": "markdown",
   "metadata": {},
   "source": [
    "Ez így teljesen fölöslegesnek tűnik, de minél jobban szétszedünk egy programot, sokszor annál áttekinthetőbb, és könnyebb is később módosítani. Ha akarjuk, mégjobban szétszedhetjük:"
   ]
  },
  {
   "cell_type": "code",
   "execution_count": 3,
   "metadata": {
    "collapsed": false
   },
   "outputs": [
    {
     "name": "stdout",
     "output_type": "stream",
     "text": [
      "6\n"
     ]
    }
   ],
   "source": [
    "egyik_szam = 3\n",
    "masik_szam = 3\n",
    "osszeg = egyik_szam + masik_szam\n",
    "print(osszeg)"
   ]
  },
  {
   "cell_type": "markdown",
   "metadata": {},
   "source": [
    "Ebben a programban már csak 1-1 sor módosítást igényel, ha valamelyik számot vagy magát a műveletet akarjuk módosítani.\n",
    "Pl. szorozhatjuk is a két számot, ez csak egy új sor, aztán azt is kiírhatjuk:"
   ]
  },
  {
   "cell_type": "code",
   "execution_count": 4,
   "metadata": {
    "collapsed": false
   },
   "outputs": [
    {
     "name": "stdout",
     "output_type": "stream",
     "text": [
      "9\n"
     ]
    }
   ],
   "source": [
    "szorzat = egyik_szam * masik_szam\n",
    "print(szorzat)"
   ]
  },
  {
   "cell_type": "markdown",
   "metadata": {},
   "source": [
    "Máris rengeteget tudunk ahhoz, hogy a python-t számológépnek használjuk. Csak tudnunk kell, hogy mondják python-ul az osztást, a hatványozást, stb. De az ilyesmit nem kell bemagolni, bármikor meg lehet nézni a neten."
   ]
  },
  {
   "cell_type": "markdown",
   "metadata": {},
   "source": [
    "__FELADAT__\n",
    "\n",
    "Guglizd ki, hogyan kell osztani aztán írj egy kétsoros programot, ami elosztja a fenti két számot és kiírja az eredményét!\n",
    "\n",
    "(TIPP: sokkal gyorsabb, ha angolul keresed a válaszokat az interneten)"
   ]
  },
  {
   "cell_type": "markdown",
   "metadata": {},
   "source": [
    "__A programozók is folyton gugliznak, ha valamit nem tudnak vagy nem jut eszükbe. A tapasztalt programozó egyik fő ismérve, hogy sokkal ügyesebben keres a neten :)__"
   ]
  },
  {
   "cell_type": "markdown",
   "metadata": {},
   "source": [
    "A __számok__ csak egy a legalapvetőbb __típusok__ közül, amikkel egy program dolgozik. A másik leggyakoribb a __szöveg__, ezt idézőjelbe kell tenni. Íme a következő érdekfeszítő program:"
   ]
  },
  {
   "cell_type": "code",
   "execution_count": 5,
   "metadata": {
    "collapsed": false
   },
   "outputs": [
    {
     "name": "stdout",
     "output_type": "stream",
     "text": [
      "pingvin\n"
     ]
    }
   ],
   "source": [
    "szoveg = 'pingvin'\n",
    "print(szoveg)"
   ]
  },
  {
   "cell_type": "markdown",
   "metadata": {},
   "source": [
    "A szövegeket a programozók __string__-nek (ejtsd: sztring) szeretik hívni, mert ebből lehet tudni, hogy ~~programozók~~ egy típusról beszélnek\n",
    "\n",
    "A __string__ekkel, csak úgy, mint a számokkal, sok alapvető műveletet lehet végezni, pl. náluk is van \"összeadás\":\n"
   ]
  },
  {
   "cell_type": "code",
   "execution_count": 6,
   "metadata": {
    "collapsed": false
   },
   "outputs": [
    {
     "name": "stdout",
     "output_type": "stream",
     "text": [
      "HosszúKatinka\n"
     ]
    }
   ],
   "source": [
    "vezeteknev = \"Hosszú\"\n",
    "keresztnev = \"Katinka\"\n",
    "teljes_nev = vezeteknev+keresztnev\n",
    "print(teljes_nev)"
   ]
  },
  {
   "cell_type": "markdown",
   "metadata": {},
   "source": [
    "Máris láthatjuk, hogy a Python semmit nem talál ki helyettünk. Ő nem tudja, mit csinálunk, ahhoz egy csomó mindent értenie kéne. Nem olyan nagy dolog észrevenni, ha két szót véletlenül egybeírtunk, a google is megoldja, de __a programozási nyelvek arra valók, hogy pontosan azt csinálják, amit mondunk nekik__."
   ]
  },
  {
   "cell_type": "markdown",
   "metadata": {},
   "source": [
    "#### Feladat\n",
    "Javítsd meg a fenti kódot. Ezt sokféleképp lehet, mindegy, hogy hogyan. Találjunk minél több megoldást! Melyik mikor lehet jobb, mint a többi? Ha egyik sem igazán tetszik, guglizhatunk is!"
   ]
  },
  {
   "cell_type": "markdown",
   "metadata": {},
   "source": [
    "Itt egy megoldás, amit nehéz volt \"kitalálni\":"
   ]
  },
  {
   "cell_type": "code",
   "execution_count": 7,
   "metadata": {
    "collapsed": false
   },
   "outputs": [
    {
     "name": "stdout",
     "output_type": "stream",
     "text": [
      "Hosszú Katinka\n"
     ]
    }
   ],
   "source": [
    "print(vezeteknev, keresztnev)"
   ]
  },
  {
   "cell_type": "markdown",
   "metadata": {
    "collapsed": true
   },
   "source": [
    "Most láthatjuk azt is, hogy egy __függvény__ után a zárójelbe több dolgot is írhatunk, vesszővel elválasztva. Amiket a zárójelben felsorolunk, __argumentum__nak szoktuk hívni. A függvények kapcsán van még pár furcsa szóhasználat, amit meg kell szokni. Gyakran azt mondjuk az argumentumokra, hogy ezeket __átadtuk__ a függvénynek (angolul: _arguments are passed to the function_), de szokás azt is mondani, hogy a függvényt __meghívtuk__ (call), illetve hogy ilyen és ilyen argumentumokkal hívtuk meg. Ezt a szóhasználatok azért is hasznos megtanulni, mert sokszor a programozók tökegyszerű dolgokról beszélnek úgy, hogy ~~mi ne értsük~~ ilyen \"tolvajnyelvet\" használnak."
   ]
  },
  {
   "cell_type": "markdown",
   "metadata": {},
   "source": [
    "Azt persze nehéz volt kitalálni, hogy a _print_ függvény az argumentumai közé alapból tesz egy szóközt. Igazából meg lehet neki mondani, hogy mit tegyen a szavak közé, ez csak a __default__, azaz az alapbeállítás. De mondhatnánk azt is, hogy tegyen a szavak közé valami mást, mondjuk egy csillagot:"
   ]
  },
  {
   "cell_type": "code",
   "execution_count": 8,
   "metadata": {
    "collapsed": false
   },
   "outputs": [
    {
     "name": "stdout",
     "output_type": "stream",
     "text": [
      "Hosszú*Katinka\n"
     ]
    }
   ],
   "source": [
    "print(vezeteknev, keresztnev, sep='*')"
   ]
  },
  {
   "cell_type": "markdown",
   "metadata": {},
   "source": [
    "Ez egy másfajta argumentum, mint a többi, mert van neve, __keyword argument__-nek hívják, és később, a függvények kapcsán még lesz róla szó."
   ]
  },
  {
   "cell_type": "markdown",
   "metadata": {},
   "source": [
    "A _print_ egy elég széleskörűen használható függvény, mindent ki tud írni:"
   ]
  },
  {
   "cell_type": "code",
   "execution_count": 9,
   "metadata": {
    "collapsed": false
   },
   "outputs": [
    {
     "name": "stdout",
     "output_type": "stream",
     "text": [
      "Hosszú\n",
      "6\n",
      "<built-in function print>\n"
     ]
    }
   ],
   "source": [
    "print(vezeteknev)\n",
    "print(osszeg)\n",
    "print(print)\n"
   ]
  },
  {
   "cell_type": "markdown",
   "metadata": {},
   "source": [
    "A legtöbb függvényt persze nem lehet akármire \"ráéereszteni\", mert nincs értelme. Például a _len_ függvény megadja egy objektum hosszát. Számnak nincs hossza, de sztringnek van:"
   ]
  },
  {
   "cell_type": "code",
   "execution_count": 10,
   "metadata": {
    "collapsed": false
   },
   "outputs": [
    {
     "data": {
      "text/plain": [
       "6"
      ]
     },
     "execution_count": 10,
     "metadata": {},
     "output_type": "execute_result"
    }
   ],
   "source": [
    "len(vezeteknev)"
   ]
  },
  {
   "cell_type": "markdown",
   "metadata": {},
   "source": [
    "Ha egy sor kód elé __kettőskeresztet__ (#) teszünk, azt a python \"átugorja\", nem futtatja le. Ez azért hasznos, mert így nem kell kitörölnünk azt a kódot, amit épp nem akarunk lefuttatni, és így megjegyzéseket is írhatunk a kódba. Amit # után írunk, __kommentnek__ szokás hívni, amikor pedig egy kódot egy # jellel \"kikapcsolunk\", úgy mondják, hogy __kikommenteljük__."
   ]
  },
  {
   "cell_type": "code",
   "execution_count": 11,
   "metadata": {
    "collapsed": true
   },
   "outputs": [],
   "source": [
    "# Ez a kód nem fog működni, ezért ki van kommentelve\n",
    "# Töröld ki előle a # jelet, hogy kipróbálhasd!\n",
    "\n",
    "# len(3)"
   ]
  },
  {
   "cell_type": "markdown",
   "metadata": {},
   "source": [
    "A hibaüzenet utolsó sorából fel lehet fedezni, hogy a számokat \"programozóul\" __int__nek hívják. Igazából az int-ek az egész számok típusa. Ha egy számnak törtrésze is van, akkor egy másik típust kell használni, ez a __float__. Egy objektum típusát mindig meg lehet kérdezni a _type_ függvénnyel:"
   ]
  },
  {
   "cell_type": "code",
   "execution_count": 12,
   "metadata": {
    "collapsed": false
   },
   "outputs": [
    {
     "data": {
      "text/plain": [
       "int"
      ]
     },
     "execution_count": 12,
     "metadata": {},
     "output_type": "execute_result"
    }
   ],
   "source": [
    "type(3)"
   ]
  },
  {
   "cell_type": "code",
   "execution_count": 13,
   "metadata": {
    "collapsed": false
   },
   "outputs": [
    {
     "data": {
      "text/plain": [
       "float"
      ]
     },
     "execution_count": 13,
     "metadata": {},
     "output_type": "execute_result"
    }
   ],
   "source": [
    "type(3.14)"
   ]
  },
  {
   "cell_type": "markdown",
   "metadata": {},
   "source": [
    "Amikor ennek van értelme, akkor könnyen meg lehet változtatni valaminek a típusát:"
   ]
  },
  {
   "cell_type": "code",
   "execution_count": 14,
   "metadata": {
    "collapsed": false
   },
   "outputs": [
    {
     "data": {
      "text/plain": [
       "3.0"
      ]
     },
     "execution_count": 14,
     "metadata": {},
     "output_type": "execute_result"
    }
   ],
   "source": [
    "float(3)"
   ]
  },
  {
   "cell_type": "code",
   "execution_count": 15,
   "metadata": {
    "collapsed": false
   },
   "outputs": [
    {
     "data": {
      "text/plain": [
       "'3'"
      ]
     },
     "execution_count": 15,
     "metadata": {},
     "output_type": "execute_result"
    }
   ],
   "source": [
    "str(3)"
   ]
  },
  {
   "cell_type": "markdown",
   "metadata": {},
   "source": [
    "__2.1. FELADAT__: Hogyan lehetne akkor mégis megnézni egy számnak a hosszát? Vagyis, hogy hány jegyű?"
   ]
  },
  {
   "cell_type": "code",
   "execution_count": null,
   "metadata": {
    "collapsed": false
   },
   "outputs": [],
   "source": []
  },
  {
   "cell_type": "markdown",
   "metadata": {},
   "source": [
    "__2.2. FELADAT__: Tippeld meg az alábbiakról, hogy mit csinálnak, aztán próbáld ki, hogy jól tippeltél-e!"
   ]
  },
  {
   "cell_type": "code",
   "execution_count": null,
   "metadata": {
    "collapsed": false
   },
   "outputs": [],
   "source": [
    "float(3)"
   ]
  },
  {
   "cell_type": "code",
   "execution_count": null,
   "metadata": {
    "collapsed": false
   },
   "outputs": [],
   "source": [
    "int(3.14)"
   ]
  },
  {
   "cell_type": "code",
   "execution_count": null,
   "metadata": {
    "collapsed": false
   },
   "outputs": [],
   "source": [
    "int(\"123\")"
   ]
  },
  {
   "cell_type": "markdown",
   "metadata": {},
   "source": []
  },
  {
   "cell_type": "code",
   "execution_count": null,
   "metadata": {
    "collapsed": false
   },
   "outputs": [],
   "source": [
    "# int(\"pingvin\")"
   ]
  },
  {
   "cell_type": "markdown",
   "metadata": {},
   "source": [
    "Még egy utolsó bonyolítás: vannak olyan függvények, amelyek egy konkrét típushoz (sztring, szám, stb.) szorosan kapcsolódik, ezeket máshogy kell leírni (később megtudjuk, hogy miért). Például az _upper_ nevű függvény átír egy sztringet csupa nagybetűre, de ezt így írjuk:"
   ]
  },
  {
   "cell_type": "code",
   "execution_count": 20,
   "metadata": {
    "collapsed": false
   },
   "outputs": [
    {
     "data": {
      "text/plain": [
       "'HOSSZÚ'"
      ]
     },
     "execution_count": 20,
     "metadata": {},
     "output_type": "execute_result"
    }
   ],
   "source": [
    "vezeteknev.upper()"
   ]
  },
  {
   "cell_type": "markdown",
   "metadata": {},
   "source": [
    "Ez most egy felesleges bonyolításnak tűnik, és most még az is, a félév vége felé majd megtudjuk, hogy mi értelme van."
   ]
  },
  {
   "cell_type": "markdown",
   "metadata": {},
   "source": [
    "A pythonban jópár beépített függvény van, és mások programjaiból is be lehet tölteni új függvényeket, de a legfontosabb, hogy mi is tudunk definiálni függvényeket. Itt egy nagyon egyszerű függvénydefiníció:"
   ]
  },
  {
   "cell_type": "code",
   "execution_count": 21,
   "metadata": {
    "collapsed": true
   },
   "outputs": [],
   "source": [
    "def csillag(egyik_szo, masik_szo):\n",
    "    print(egyik_szo, masik_szo, sep='*')"
   ]
  },
  {
   "cell_type": "markdown",
   "metadata": {},
   "source": [
    "Ez a definíció annyit mond: legyen egy új függvény, hívjuk _csillag_-nak, legyen két argumentuma és csinálja azt, hogy kiírja őket, de szóköz helyett csillagot tegyen közéjük. Ezután már ilyet is írhatunk:"
   ]
  },
  {
   "cell_type": "code",
   "execution_count": 22,
   "metadata": {
    "collapsed": false
   },
   "outputs": [
    {
     "name": "stdout",
     "output_type": "stream",
     "text": [
      "Hosszú*Katinka\n"
     ]
    }
   ],
   "source": [
    "csillag(\"Hosszú\", \"Katinka\")"
   ]
  },
  {
   "cell_type": "code",
   "execution_count": 60,
   "metadata": {
    "collapsed": false
   },
   "outputs": [
    {
     "name": "stdout",
     "output_type": "stream",
     "text": [
      "alma*körte\n"
     ]
    }
   ],
   "source": [
    "csillag(\"alma\", \"körte\")"
   ]
  },
  {
   "cell_type": "markdown",
   "metadata": {},
   "source": [
    "Amikor programozunk, nem kell minden bonyolult dolgot a legapróbb lépésekre szétszedni, mert előbb \"összelegózhatjuk\" a saját nagyobb \"alkatrészeinket\", és persze használhatjuk másokét is. Olyan ez, mintha legóban akárhányszor hsználhatnánk alkatrésznek bármit, amit egyszer már megépítettünk, vagy bárki más megépített. Azért van annyi applikáció okostelefonra, mert egy új ötlet alapján csak meglévő alkatrészekből is össze lehet rakni egy hasznos alkalmazást."
   ]
  },
  {
   "cell_type": "markdown",
   "metadata": {},
   "source": []
  },
  {
   "cell_type": "markdown",
   "metadata": {},
   "source": [
    "__2.3. FELADAT__ Definiálj egy függvényt, ami minden számra kiírja az eggyel nagyobbat."
   ]
  },
  {
   "cell_type": "code",
   "execution_count": 23,
   "metadata": {
    "collapsed": false
   },
   "outputs": [],
   "source": [
    "# def nagyobb(x):\n",
    "#     ..."
   ]
  },
  {
   "cell_type": "markdown",
   "metadata": {},
   "source": [
    "Próbáld is ki! "
   ]
  },
  {
   "cell_type": "code",
   "execution_count": 24,
   "metadata": {
    "collapsed": false
   },
   "outputs": [],
   "source": [
    "# nagyobb(3)"
   ]
  },
  {
   "cell_type": "markdown",
   "metadata": {},
   "source": [
    "__2.4. FELADAT__ Mit csinál a __2.3__-ban írt programod, ha törtszámot adsz át neki? Írd át úgy, hogy ilyenkor előbb konvertálja egész számmá (_int_)."
   ]
  },
  {
   "cell_type": "code",
   "execution_count": 25,
   "metadata": {
    "collapsed": true
   },
   "outputs": [],
   "source": [
    "# def nagyobb(x):\n",
    "#    ..."
   ]
  },
  {
   "cell_type": "markdown",
   "metadata": {},
   "source": [
    "Próbáld ki:"
   ]
  },
  {
   "cell_type": "code",
   "execution_count": null,
   "metadata": {
    "collapsed": true
   },
   "outputs": [],
   "source": []
  },
  {
   "cell_type": "markdown",
   "metadata": {},
   "source": [
    "__2.5. FELADAT__ Definiálj egy függvényt, ami kiírja egy számról, hogy hány jegyű!"
   ]
  },
  {
   "cell_type": "code",
   "execution_count": 26,
   "metadata": {
    "collapsed": true
   },
   "outputs": [],
   "source": [
    "# def hanyjegyu(x):\n",
    "#     ..."
   ]
  },
  {
   "cell_type": "markdown",
   "metadata": {},
   "source": [
    "Próbáld ki:"
   ]
  },
  {
   "cell_type": "code",
   "execution_count": 27,
   "metadata": {
    "collapsed": false
   },
   "outputs": [],
   "source": [
    "# hanyjegyu(1234)"
   ]
  },
  {
   "cell_type": "markdown",
   "metadata": {},
   "source": [
    "__2.6. FELADAT__ Definiálj egy függvényt, ami két számról kiírja, hogy a szorzatuk hány jegyű!"
   ]
  },
  {
   "cell_type": "code",
   "execution_count": 28,
   "metadata": {
    "collapsed": true
   },
   "outputs": [],
   "source": [
    "# def szorzat_hanyjegyu(x, y):\n",
    "#     ..."
   ]
  },
  {
   "cell_type": "markdown",
   "metadata": {},
   "source": [
    "Próbáld ki, hogy működik-e:"
   ]
  },
  {
   "cell_type": "code",
   "execution_count": 29,
   "metadata": {
    "collapsed": false
   },
   "outputs": [],
   "source": [
    "# egyik_szam = 12\n",
    "# masik_szam = 10\n",
    "# szorzat_hanyjegyu(egyik_szam, masik_szam)"
   ]
  },
  {
   "cell_type": "markdown",
   "metadata": {},
   "source": [
    "Eddig csak olyan függvényeket írtunk, amik kiírnak valamit. Általában viszont a függvényeket úgy szoktuk használni, hogy valamit kiszámolnak vagy létrehoznak nekünk, amivel mi még utána bármit csinálhatunk. Ilyenkor a függvényt úgy kell megírni, hogy amit kiszámolt, azt __adja vissza__ (return):"
   ]
  },
  {
   "cell_type": "code",
   "execution_count": 30,
   "metadata": {
    "collapsed": true
   },
   "outputs": [],
   "source": [
    "def nagyobb(x):\n",
    "    valasz = x + 1\n",
    "    return valasz"
   ]
  },
  {
   "cell_type": "markdown",
   "metadata": {},
   "source": [
    "Egy ilyen függvényt aztán úgy futtathatunk, hogy a __kimenetét__ (output) el tudjuk tenni egy változóba:"
   ]
  },
  {
   "cell_type": "code",
   "execution_count": 31,
   "metadata": {
    "collapsed": false
   },
   "outputs": [
    {
     "name": "stdout",
     "output_type": "stream",
     "text": [
      "6\n"
     ]
    }
   ],
   "source": [
    "szam = 5\n",
    "nagyobb_szam = nagyobb(szam)\n",
    "print(nagyobb_szam)"
   ]
  },
  {
   "cell_type": "markdown",
   "metadata": {},
   "source": [
    "Írjunk most egy függvényt, ami azt csinálja, mint a _csillag_ függvény, de az elkészített sztringet nem írja ki, csak visszaadja:"
   ]
  },
  {
   "cell_type": "code",
   "execution_count": 62,
   "metadata": {
    "collapsed": true
   },
   "outputs": [],
   "source": [
    "def csillag2(vezeteknev, keresztnev):\n",
    "    return vezeteknev + '*' + keresztnev"
   ]
  },
  {
   "cell_type": "markdown",
   "metadata": {},
   "source": [
    "Próbáljuk ki, hogy működik-e!"
   ]
  },
  {
   "cell_type": "code",
   "execution_count": 2,
   "metadata": {
    "collapsed": false
   },
   "outputs": [
    {
     "name": "stdout",
     "output_type": "stream",
     "text": [
      "Hosszú*Katinka\n"
     ]
    }
   ],
   "source": [
    "print(csillag2('Hosszú', 'Katinka'))"
   ]
  },
  {
   "cell_type": "markdown",
   "metadata": {},
   "source": [
    "Vegyük észre, hogy most két függvényhívás is szerepelt egy sorban. Vagyis meghívtuk a csillag2 függvényt és annak a kimenetére meghívtuk a print függvényt. Ez két sorban így nézne ki:"
   ]
  },
  {
   "cell_type": "code",
   "execution_count": 5,
   "metadata": {
    "collapsed": false
   },
   "outputs": [
    {
     "name": "stdout",
     "output_type": "stream",
     "text": [
      "Hosszú*Katinka\n"
     ]
    }
   ],
   "source": [
    "csillagos_nev = csillag2('Hosszú', 'Katinka')\n",
    "print(csillagos_nev)"
   ]
  },
  {
   "cell_type": "markdown",
   "metadata": {},
   "source": [
    "A függvények definíciójába bármit írhatunk, pl. más függvényeket is meghívhatunk, így lehet hatékonyan \"építkezni\". Most már nagyon könnyű megírni azt a függvényt, ami ugyanazt csinálja, mint a _csillag2_, csak nagybetűsíti is a nevet. Ehhez nem kell \"copy-paste\"-elni, csak az új függvényből meghívjuk a régit:"
   ]
  },
  {
   "cell_type": "code",
   "execution_count": 63,
   "metadata": {
    "collapsed": false
   },
   "outputs": [
    {
     "name": "stdout",
     "output_type": "stream",
     "text": [
      "HOSSZÚ*KATINKA\n"
     ]
    }
   ],
   "source": [
    "def csillag3(vezeteknev, keresztnev):\n",
    "    csillagos_nev = csillag2(vezeteknev, keresztnev)\n",
    "    nagybetus_nev = csillagos_nev.upper()\n",
    "    return nagybetus_nev\n",
    "    \n",
    "\n",
    "print(csillag3('Hosszú', 'Katinka'))"
   ]
  },
  {
   "cell_type": "markdown",
   "metadata": {},
   "source": [
    "Próbáljuk is ki!"
   ]
  },
  {
   "cell_type": "code",
   "execution_count": 8,
   "metadata": {
    "collapsed": false
   },
   "outputs": [
    {
     "name": "stdout",
     "output_type": "stream",
     "text": [
      "HOSSZÚ*KATINKA\n"
     ]
    }
   ],
   "source": [
    "print(csillag3('Hosszú', 'Katinka'))"
   ]
  },
  {
   "cell_type": "markdown",
   "metadata": {},
   "source": [
    "Persze ezt a _csillag3_ függvényt is írhattuk volna rövidebben, mindent egy sorba:"
   ]
  },
  {
   "cell_type": "code",
   "execution_count": 11,
   "metadata": {
    "collapsed": true
   },
   "outputs": [],
   "source": [
    "def csillag3(vezeteknev, keresztnev):\n",
    "    return csillag2(vezeteknev, keresztnev).upper()"
   ]
  },
  {
   "cell_type": "code",
   "execution_count": 12,
   "metadata": {
    "collapsed": false
   },
   "outputs": [
    {
     "name": "stdout",
     "output_type": "stream",
     "text": [
      "HOSSZÚ*KATINKA\n"
     ]
    }
   ],
   "source": [
    "print(csillag3('Hosszú', 'Katinka'))"
   ]
  },
  {
   "cell_type": "markdown",
   "metadata": {},
   "source": [
    "Ez ízlés kérdése, kinek mi az átláthatóbb. Ha bizonytalanok vagyunk, inkább írjuk kicsit részletesebben (több sorba) a kódot, később valószleg könnyebb lesz átlátni. Itt most azt a legfontosabb látni, hogy __egy-egy műveletsort elég egyszer definiálni, később már csak a definícióra kell hivatkozni__"
   ]
  },
  {
   "cell_type": "markdown",
   "metadata": {},
   "source": [
    "__2.7. FELADAT__ Írd át a 2.5-ben írt _hanyjegyu_ függvényt úgy, hogy ne írja ki a választ, csak _adja vissza_!"
   ]
  },
  {
   "cell_type": "code",
   "execution_count": 32,
   "metadata": {
    "collapsed": true
   },
   "outputs": [],
   "source": [
    "# def hanyjegyu(x):\n",
    "#     ...\n",
    "#     return valasz"
   ]
  },
  {
   "cell_type": "markdown",
   "metadata": {},
   "source": [
    "Az alábbi kóddal tudjuk ellenőrizni, hogy jól működik-e a függvény:"
   ]
  },
  {
   "cell_type": "code",
   "execution_count": 33,
   "metadata": {
    "collapsed": false
   },
   "outputs": [],
   "source": [
    "# szam = 1234\n",
    "# szam_hossz = hanyjegyu(szam)\n",
    "# print(szam_hossz)"
   ]
  },
  {
   "cell_type": "markdown",
   "metadata": {},
   "source": [
    "__2.8. FELADAT__ A 2.6-ban írt szorzat_hanyjegyu függvényt is írd át ugyanígy!"
   ]
  },
  {
   "cell_type": "code",
   "execution_count": 34,
   "metadata": {
    "collapsed": true
   },
   "outputs": [],
   "source": [
    "# def szorzat_hanyjegyu(x, y):\n",
    "#     ..."
   ]
  },
  {
   "cell_type": "markdown",
   "metadata": {
    "collapsed": true
   },
   "source": [
    "Most ennek kell működnie:"
   ]
  },
  {
   "cell_type": "code",
   "execution_count": 35,
   "metadata": {
    "collapsed": true
   },
   "outputs": [],
   "source": [
    "# egyik_szam = 12\n",
    "# masik_szam = 10\n",
    "# szorzat_hossz = szorzat_hanyjegyu(egyik_szam, masik_szam)\n",
    "# print(szorzat_hossz)"
   ]
  },
  {
   "cell_type": "markdown",
   "metadata": {},
   "source": [
    "__2.9. FELADAT__ Így már lehet \"építkezni\"! Most írj egy új, egyszerűbb szorzat_hanyjegyu függvényt, ami használja a __2.7__-ben írt _hanyjegyu_ függvényt. Próbáld is ki, hogy jó eredményt kapsz-e!"
   ]
  },
  {
   "cell_type": "code",
   "execution_count": 36,
   "metadata": {
    "collapsed": true
   },
   "outputs": [],
   "source": [
    "# def szorzat_hanyjegyu(x, y):\n",
    "#     ...\n",
    "\n",
    "# egyik_szam = 12\n",
    "# masik_szam = 10\n",
    "# szorzat_hossz = szorzat_hanyjegyu(egyik_szam, masik_szam)\n",
    "# print(szorzat_hossz)"
   ]
  },
  {
   "cell_type": "markdown",
   "metadata": {},
   "source": [
    "__2.10. FELADAT__ Írj olyan függvényt, ami két szám hányadosáról mondja meg, hogy hány jegyű! A tizedespont utáni jegyek nem számítanak!"
   ]
  },
  {
   "cell_type": "code",
   "execution_count": 37,
   "metadata": {
    "collapsed": true
   },
   "outputs": [],
   "source": [
    "# def hanyados_hanyjegyu(x, y):\n",
    "#     ...\n",
    "\n",
    "# egyik_szam = 120\n",
    "# masik_szam = 8\n",
    "# hanyados_hossz = hanyados_hanyjegyu(egyik_szam, masik_szam)\n",
    "# print(hanyados_hossz)"
   ]
  },
  {
   "cell_type": "markdown",
   "metadata": {},
   "source": [
    "A _csillag_ függvénynek is el tudjuk készíteni azt a verzióját, ami nem írja ki az új sztringet, csak visszaadja:"
   ]
  },
  {
   "cell_type": "code",
   "execution_count": 38,
   "metadata": {
    "collapsed": true
   },
   "outputs": [],
   "source": [
    "def csillag(egyik_szo, masik_szo):\n",
    "    uj_szo = egyik_szo + \"*\" + masik_szo\n",
    "    return uj_szo"
   ]
  },
  {
   "cell_type": "code",
   "execution_count": 39,
   "metadata": {
    "collapsed": false
   },
   "outputs": [
    {
     "name": "stdout",
     "output_type": "stream",
     "text": [
      "Hosszú*Katinka\n"
     ]
    }
   ],
   "source": [
    "nev = csillag(vezeteknev, keresztnev)\n",
    "print(nev)"
   ]
  },
  {
   "cell_type": "markdown",
   "metadata": {},
   "source": [
    "__2.11 FELADAT__ Írj olyan függvényt, ami vezeték- és keresztnév alapján kiírja a teljes nevet csupa nagybetűvel!"
   ]
  },
  {
   "cell_type": "code",
   "execution_count": null,
   "metadata": {
    "collapsed": true
   },
   "outputs": [],
   "source": [
    "# def nagybetus(egyik_szo, masik_szo):\n",
    "#     ...\n",
    "#\n",
    "# nev = nagybetus(vezeteknev, keresztnev)\n",
    "# print(nev)"
   ]
  },
  {
   "cell_type": "markdown",
   "metadata": {},
   "source": [
    "__2.12 FELADAT__ Írj olyan függvényt, ami megmondja egy vezetéknév és keresztnév alapján, hogy az illetőnek hány betűből áll a neve!"
   ]
  },
  {
   "cell_type": "code",
   "execution_count": 41,
   "metadata": {
    "collapsed": true
   },
   "outputs": [],
   "source": [
    "# def hanybetus(egyik_szo, masik_szo):\n",
    "#     ...\n",
    "#\n",
    "# hossz = hanybetus(vezeteknev, keresztnev)\n",
    "# print(hossz)"
   ]
  },
  {
   "cell_type": "markdown",
   "metadata": {},
   "source": [
    "Ha idáig minden világos, próbálkozz meg a most következő, nehezebb feladatokkal is!"
   ]
  },
  {
   "cell_type": "markdown",
   "metadata": {},
   "source": [
    "__NEHEZEBB FELADATOK__"
   ]
  },
  {
   "cell_type": "markdown",
   "metadata": {},
   "source": [
    "__2.13 FELADAT__ Írj olyan függvényt, ami egy szót kisbetűsítve ad vissza! (Az eddigiek alapján lehet ötleted, de ha nincs, használhatsz google-t)"
   ]
  },
  {
   "cell_type": "code",
   "execution_count": null,
   "metadata": {
    "collapsed": true
   },
   "outputs": [],
   "source": []
  },
  {
   "cell_type": "markdown",
   "metadata": {},
   "source": [
    "__2.14. FELADAT__ Írj olyan függvényt, aminek _akármennyi_ szót át lehet adni, és visszadja az összeset csillagokkal összefűzve (használd a google-t!)"
   ]
  },
  {
   "cell_type": "code",
   "execution_count": null,
   "metadata": {
    "collapsed": true
   },
   "outputs": [],
   "source": []
  },
  {
   "cell_type": "markdown",
   "metadata": {},
   "source": [
    "__2.15. FELADAT__ Ha a 2.13 sikerült, írd át úgy, hogy a csillag helyett bármilyen karaktert meg lehessen adni!"
   ]
  },
  {
   "cell_type": "code",
   "execution_count": null,
   "metadata": {
    "collapsed": true
   },
   "outputs": [],
   "source": []
  }
 ],
 "metadata": {
  "kernelspec": {
   "display_name": "Python 3",
   "language": "python",
   "name": "python3"
  },
  "language_info": {
   "codemirror_mode": {
    "name": "ipython",
    "version": 3
   },
   "file_extension": ".py",
   "mimetype": "text/x-python",
   "name": "python",
   "nbconvert_exporter": "python",
   "pygments_lexer": "ipython3",
   "version": "3.5.2"
  }
 },
 "nbformat": 4,
 "nbformat_minor": 1
}
